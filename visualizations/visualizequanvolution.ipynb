{
 "cells": [
  {
   "cell_type": "code",
   "execution_count": 7,
   "metadata": {},
   "outputs": [],
   "source": [
    "import pennylane as qml\n",
    "from pennylane import numpy as np\n",
    "import tensorflow as tf\n",
    "from tensorflow import keras\n",
    "import matplotlib.pyplot as plt\n",
    "\n",
    "import matplotlib.animation as animation\n",
    "\n",
    "mnist_dataset = keras.datasets.mnist\n",
    "(train_images, train_labels), (test_images, test_labels) = mnist_dataset.load_data()\n",
    "\n",
    "n_epochs = 20   # Number of optimization epochs\n",
    "n_layers = 1    # Number of random layers\n",
    "n_train = 200    # Size of the train dataset\n",
    "n_test = 120     # Size of the test dataset\n",
    "n_batches = 4     # Size of the batches\n",
    "\n",
    "# Reduce dataset size\n",
    "train_images = train_images[:n_train]\n",
    "train_labels = train_labels[:n_train]\n",
    "test_images = test_images[:n_test]\n",
    "test_labels = test_labels[:n_test]\n",
    "\n",
    "# Normalize pixel values within 0 and 1\n",
    "train_images = train_images / 255\n",
    "test_images = test_images / 255\n",
    "\n",
    "# Add extra dimension for convolution channels\n",
    "train_images = np.array(train_images[..., tf.newaxis], requires_grad=False)\n",
    "test_images = np.array(test_images[..., tf.newaxis], requires_grad=False)\n",
    "\n",
    "n_qubits = 4\n",
    "\n",
    "dev = qml.device(\"default.qubit\", wires=n_qubits)\n",
    "\n",
    "@qml.qnode(dev)\n",
    "def qnotnode(inputs):\n",
    "    \n",
    "    for j in range(4):\n",
    "        qml.RY(np.pi * inputs[j], wires=j)\n",
    "\n",
    "\n",
    "    # Filter from arxiv.org/abs/2308.14930\n",
    "\n",
    "    qml.CNOT(wires=[1, 2])\n",
    "    qml.CNOT(wires=[0, 3])\n",
    "\n",
    "\n",
    "    # Measurement producing 4 classical output values\n",
    "    return [qml.expval(qml.PauliZ(j)) for j in range(n_qubits)]\n",
    "\n",
    "def quanv(image, func):\n",
    "    \"\"\"Convolves the input image with many applications of the same quantum circuit.\"\"\"\n",
    "    out = np.zeros((14, 14, 4))\n",
    "\n",
    "    # Loop over the coordinates of the top-left pixel of 2X2 squares\n",
    "    for j in range(0, 28, 2):\n",
    "        for k in range(0, 28, 2):\n",
    "            # Process a squared 2x2 region of the image with a quantum circuit\n",
    "            q_results = func(\n",
    "                [\n",
    "                    image[j, k, 0],\n",
    "                    image[j, k + 1, 0],\n",
    "                    image[j + 1, k, 0],\n",
    "                    image[j + 1, k + 1, 0]\n",
    "                ]\n",
    "            )\n",
    "            # Assign expectation values to different channels of the output pixel (j/2, k/2)\n",
    "            for c in range(4):\n",
    "                out[j // 2, k // 2, c] = q_results[c]\n",
    "    return out\n",
    "\n",
    "anim = \"\"    \n",
    "anims = []\n",
    "\n",
    "ims = []\n",
    "    \n",
    "def vizquanv(inputs, func, tittle):\n",
    "\n",
    "    out = np.zeros((14, 14, 4))\n",
    "    fig, ax = plt.subplots(nrows=1, ncols=4, figsize=(12, 4))\n",
    "    for c in range(n_qubits):\n",
    "        ims.append([[]])\n",
    "        ax[c].set_title(\"{tittle} [ch. {c}]\".format(tittle=tittle,c=c), fontsize=16)\n",
    "        ax[c].axis('off')\n",
    "        ax[c].imshow(quanv(inputs, func)[:,:,c])\n",
    "\n",
    "    # Loop over the coordinates of the top-left pixel of 2X2 squares\n",
    "    for j in range(0, 28, 2):\n",
    "        for k in range(0, 28, 2):\n",
    "            # Process a squared 2x2 region of the image with a quantum circuit\n",
    "            q_results = func(\n",
    "                [\n",
    "                    inputs[j, k, 0],\n",
    "                    inputs[j, k + 1, 0],\n",
    "                    inputs[j + 1, k, 0],\n",
    "                    inputs[j + 1, k + 1, 0]\n",
    "                ]\n",
    "            )\n",
    "            # Assign expectation values to different channels of the output pixel (j/2, k/2)\n",
    "            for c in range(n_qubits):\n",
    "                out[j // 2, k // 2, c] = q_results[c]\n",
    "                im = ax[c].imshow(out[:,:,c], animated=True)\n",
    "                ims[c].append([im])\n",
    "    for c in range(n_qubits):\n",
    "        ims[c].insert(0,ims[c][-1])\n",
    "        anim = animation.ArtistAnimation(fig, ims[c], interval=100, blit=True,\n",
    "                                repeat_delay=9000)\n",
    "        anims.append([anim])\n",
    "        \n",
    "    return out"
   ]
  },
  {
   "cell_type": "code",
   "execution_count": 8,
   "metadata": {},
   "outputs": [
    {
     "data": {
      "application/vnd.jupyter.widget-view+json": {
       "model_id": "ffd3b81474d64bfb905658d53c700581",
       "version_major": 2,
       "version_minor": 0
      },
      "image/png": "[encoded data removed]",
      "text/html": [
       "\n",
       "            <div style=\"display: inline-block;\">\n",
       "                <div class=\"jupyter-widgets widget-label\" style=\"text-align: center;\">\n",
       "                    Figure\n",
       "                </div>\n",
       "                <img src='data:image/png;base64,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' width=1200.0/>\n",
       "            </div>\n",
       "        "
      ],
      "text/plain": [
       "Canvas(toolbar=Toolbar(toolitems=[('Home', 'Reset original view', 'home', 'home'), ('Back', 'Back to previous …"
      ]
     },
     "metadata": {},
     "output_type": "display_data"
    }
   ],
   "source": [
    " \n",
    "%matplotlib widget\n",
    "\n",
    "ou = vizquanv(train_images[0], qnotnode, \"Five\")\n",
    "\n",
    "#plt.tight_layout()\n",
    "plt.show()\n"
   ]
  },
  {
   "cell_type": "code",
   "execution_count": 9,
   "metadata": {},
   "outputs": [
    {
     "data": {
      "text/plain": [
       "(14, 14, 4)"
      ]
     },
     "execution_count": 9,
     "metadata": {},
     "output_type": "execute_result"
    }
   ],
   "source": [
    "ou.shape"
   ]
  },
  {
   "cell_type": "code",
   "execution_count": null,
   "metadata": {},
   "outputs": [],
   "source": []
  }
 ],
 "metadata": {
  "kernelspec": {
   "display_name": "QML-QPF",
   "language": "python",
   "name": "python3"
  },
  "language_info": {
   "codemirror_mode": {
    "name": "ipython",
    "version": 3
   },
   "file_extension": ".py",
   "mimetype": "text/x-python",
   "name": "python",
   "nbconvert_exporter": "python",
   "pygments_lexer": "ipython3",
   "version": "3.11.9"
  }
 },
 "nbformat": 4,
 "nbformat_minor": 2
}
