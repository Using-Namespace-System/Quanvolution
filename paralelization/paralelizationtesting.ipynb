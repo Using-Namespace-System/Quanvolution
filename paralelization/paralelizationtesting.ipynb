{
 "cells": [
  {
   "cell_type": "code",
   "execution_count": 105,
   "metadata": {},
   "outputs": [],
   "source": [
    "import pennylane as qml\n",
    "from pennylane import numpy as np\n",
    "from pennylane.templates import RandomLayers\n",
    "import tensorflow as tf\n",
    "from tensorflow import keras\n",
    "import matplotlib.pyplot as plt\n",
    "import os\n",
    "from datetime import datetime\n",
    "\n",
    "np.random.seed(0)           # Seed for NumPy random number generator\n",
    "tf.random.set_seed(0)       # Seed for TensorFlow random number generator\n",
    "\n",
    "mnist_dataset = keras.datasets.mnist\n",
    "(train_images, train_labels), (test_images, test_labels) = mnist_dataset.load_data()\n",
    "\n",
    "n_epochs = 1   # Number of optimization epochs\n",
    "n_layers = 1    # Number of random layers\n",
    "n_train = 200    # Size of the train dataset\n",
    "n_test = 120     # Size of the test dataset\n",
    "n_batches = 1     # Size of the batches\n",
    "\n",
    "# Reduce dataset size\n",
    "train_images = train_images[:n_train]\n",
    "train_labels = train_labels[:n_train]\n",
    "test_images = test_images[:n_test]\n",
    "test_labels = test_labels[:n_test]\n",
    "\n",
    "\n"
   ]
  },
  {
   "cell_type": "code",
   "execution_count": 106,
   "metadata": {},
   "outputs": [],
   "source": [
    "# Normalize pixel values within 0 and 1\n",
    "train_images = train_images / 255\n",
    "test_images = test_images / 255\n",
    "\n",
    "# Add extra dimension for convolution channels\n",
    "train_images = np.array(train_images[..., tf.newaxis], requires_grad=False)\n",
    "test_images = np.array(test_images[..., tf.newaxis], requires_grad=False)\n",
    "\n",
    "n_qubits = 4\n",
    "dev = qml.device(\"default.qubit.tf\", wires=n_qubits)\n",
    "\n",
    "@qml.qnode(dev, interface='tf')\n",
    "def qnotnode(inputs):\n",
    "    inputs *= np.pi\n",
    "    qml.AngleEmbedding(inputs, wires=range(n_qubits), rotation='Y')\n",
    "    return [qml.expval(qml.PauliZ(j)) for j in range(n_qubits)]"
   ]
  },
  {
   "cell_type": "code",
   "execution_count": 107,
   "metadata": {},
   "outputs": [],
   "source": [
    "operation = []\n",
    "\n",
    "for j in range(0, 28, 2):\n",
    "    for k in range(0, 28, 2):\n",
    "        operation.append(\n",
    "            [\n",
    "                [j, k, 0],\n",
    "                [j, k + 1, 0],\n",
    "                [j + 1, k, 0],\n",
    "                [j + 1, k + 1, 0]\n",
    "            ]\n",
    "        )\n",
    "\n",
    "operations = tf.convert_to_tensor(np.asarray(operation))\n",
    "\n",
    "\n",
    "@tf.function(input_signature=(tf.TensorSpec(shape=[4, 3], dtype=tf.int64), tf.TensorSpec(shape=[28,28,1], dtype=tf.float32),))\n",
    "def ops(op, subject):      \n",
    "  qnode_inputs = []\n",
    "  qnode_inputs = tf.gather_nd(subject,op)\n",
    "  return tf.dtypes.cast(qnotnode(qnode_inputs), tf.float32)\n",
    "\n",
    "\n",
    "@tf.function(input_signature=(tf.TensorSpec(shape=[28, 28, 1], dtype=tf.float32),))\n",
    "def squares(inputs):\n",
    "  return tf.reshape(\n",
    "     tf.map_fn(lambda x: ops(x, inputs), \n",
    "                    operations,\n",
    "                    parallel_iterations=196,\n",
    "                    fn_output_signature=tf.TensorSpec(shape=[4,], dtype=tf.float32)\n",
    "                    ),\n",
    "      [14,14,4])\n",
    "\n",
    "@tf.function(input_signature=(tf.TensorSpec(shape=[4,28,28,1], dtype=tf.float32),))\n",
    "def batches(data):\n",
    "  return tf.map_fn(lambda x: squares(x), \n",
    "                   data,\n",
    "                    parallel_iterations=4,\n",
    "                    fn_output_signature=tf.TensorSpec(shape=[14,14, 4], dtype=tf.float32)\n",
    "                    )\n",
    "\n",
    "ex = lambda im: batches(im)"
   ]
  },
  {
   "cell_type": "code",
   "execution_count": 108,
   "metadata": {},
   "outputs": [],
   "source": [
    "ou = ex(train_images[:4])"
   ]
  },
  {
   "cell_type": "code",
   "execution_count": 109,
   "metadata": {},
   "outputs": [
    {
     "data": {
      "text/plain": [
       "TensorShape([4, 14, 14, 4])"
      ]
     },
     "execution_count": 109,
     "metadata": {},
     "output_type": "execute_result"
    }
   ],
   "source": [
    "ou.shape"
   ]
  },
  {
   "cell_type": "code",
   "execution_count": 110,
   "metadata": {},
   "outputs": [
    {
     "data": {
      "image/png": "[encoded data removed]",
      "text/plain": [
       "<Figure size 1200x400 with 4 Axes>"
      ]
     },
     "metadata": {},
     "output_type": "display_data"
    }
   ],
   "source": [
    "image_titles = ['Five-Ch1', 'Five-Ch2', 'Five-Ch3','Five-Ch4']\n",
    "f, ax = plt.subplots(nrows=1, ncols=4, figsize=(12, 4))\n",
    "for i, title in enumerate(image_titles):\n",
    "    ax[i].set_title(title, fontsize=16)\n",
    "    ax[i].imshow(ou[0,:,:,i])\n",
    "    ax[i].axis('off')\n",
    "plt.tight_layout()\n",
    "plt.show()"
   ]
  }
 ],
 "metadata": {
  "kernelspec": {
   "display_name": "QML-QPF",
   "language": "python",
   "name": "python3"
  },
  "language_info": {
   "codemirror_mode": {
    "name": "ipython",
    "version": 3
   },
   "file_extension": ".py",
   "mimetype": "text/x-python",
   "name": "python",
   "nbconvert_exporter": "python",
   "pygments_lexer": "ipython3",
   "version": "3.11.9"
  }
 },
 "nbformat": 4,
 "nbformat_minor": 2
}
