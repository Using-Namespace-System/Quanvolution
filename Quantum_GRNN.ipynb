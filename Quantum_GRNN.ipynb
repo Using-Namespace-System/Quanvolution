{
  "nbformat": 4,
  "nbformat_minor": 0,
  "metadata": {
    "kernelspec": {
      "display_name": "Python 3",
      "language": "python",
      "name": "python3"
    },
    "language_info": {
      "codemirror_mode": {
        "name": "ipython",
        "version": 3
      },
      "file_extension": ".py",
      "mimetype": "text/x-python",
      "name": "python",
      "nbconvert_exporter": "python",
      "pygments_lexer": "ipython3",
      "version": "3.7.2"
    },
    "colab": {
      "name": "Quantum GRNN.ipynb",
      "provenance": [],
      "include_colab_link": true
    }
  },
  "cells": [
    {
      "cell_type": "markdown",
      "metadata": {
        "id": "view-in-github",
        "colab_type": "text"
      },
      "source": [
        "<a href=\"https://colab.research.google.com/github/abhilash1910/EuroPython-21-QuantumDeepLearning/blob/master/Quantum_GRNN.ipynb\" target=\"_parent\"><img src=\"https://colab.research.google.com/assets/colab-badge.svg\" alt=\"Open In Colab\"/></a>"
      ]
    },
    {
      "cell_type": "code",
      "metadata": {
        "id": "TFMD1nlwsJdf"
      },
      "source": [
        "# This cell is added by sphinx-gallery\n",
        "# It can be customized to whatever you like\n",
        "%matplotlib inline\n",
        "!pip install pennylane"
      ],
      "execution_count": null,
      "outputs": []
    },
    {
      "cell_type": "markdown",
      "metadata": {
        "id": "1JEoP1mpsJdh"
      },
      "source": [
        "The Quantum Graph Recurrent Neural Network\n",
        "==========================================\n",
        "\n",
        "This demonstration has been taken from [Pennylane](https://pennylane.ai/qml/demos/tutorial_qgrnn.html)"
      ]
    },
    {
      "cell_type": "markdown",
      "metadata": {
        "id": "aHMUX6VOsJdi"
      },
      "source": [
        "This demonstration investigates quantum graph recurrent neural networks\n",
        "(QGRNN), which are the quantum analogue of a classical graph recurrent\n",
        "neural network, and a subclass of the more general quantum graph neural\n",
        "network ansatz. Both the QGNN and QGRNN were introduced in [this paper\n",
        "(2019)](https://arxiv.org/abs/1909.12264).\n"
      ]
    },
    {
      "cell_type": "markdown",
      "metadata": {
        "id": "rvqWKV7NsJdi"
      },
      "source": [
        "The Idea\n",
        "========\n"
      ]
    },
    {
      "cell_type": "markdown",
      "metadata": {
        "id": "dJZb0i8xsJdj"
      },
      "source": [
        "A graph is defined as a set of *nodes* along with a set of **edges**,\n",
        "which represent connections between nodes. Information can be encoded\n",
        "into graphs by assigning numbers to nodes and edges, which we call\n",
        "**weights**. It is usually convenient to think of a graph visually:\n",
        "\n",
        "![image](../demonstrations/qgrnn/graph.png){width=\"70%\"}\n",
        "\n",
        "In recent years, the concept of a [graph neural\n",
        "network](https://arxiv.org/abs/1812.08434) (GNN) has been receiving a\n",
        "lot of attention from the machine learning community. A GNN seeks to\n",
        "learn a representation (a mapping of data into a low-dimensional vector\n",
        "space) of a given graph with feature vectors assigned to nodes and\n",
        "edges. Each of the vectors in the learned representation preserves not\n",
        "only the features, but also the overall topology of the graph, i.e.,\n",
        "which nodes are connected by edges. The quantum graph neural network\n",
        "attempts to do something similar, but for features that are\n",
        "quantum-mechanical; for instance, a collection of quantum states.\n"
      ]
    },
    {
      "cell_type": "markdown",
      "metadata": {
        "id": "l2GUQ_2hsJdj"
      },
      "source": [
        "Consider the class of qubit Hamiltonians that are *quadratic*, meaning\n",
        "that the terms of the Hamiltonian represent either interactions between\n",
        "two qubits, or the energy of individual qubits. This class of\n",
        "Hamiltonians is naturally described by graphs, with second-order terms\n",
        "between qubits corresponding to weighted edges between nodes, and\n",
        "first-order terms corresponding to node weights.\n",
        "\n",
        "A well known example of a quadratic Hamiltonian is the transverse-field\n",
        "Ising model, which is defined as\n",
        "\n",
        "$$\\hat{H}_{\\text{Ising}}(\\boldsymbol\\theta) \\ = \\ \\displaystyle\\sum_{(i, j) \\in E}\n",
        "\\theta_{ij}^{(1)} Z_{i} Z_{j} \\ + \\ \\displaystyle\\sum_{i} \\theta_{i}^{(2)} Z_{i} \\ + \\\n",
        "\\displaystyle\\sum_{i} X_{i},$$\n",
        "\n",
        "where $\\boldsymbol\\theta \\ = \\ \\{\\theta^{(1)}, \\ \\theta^{(2)}\\}$. In\n",
        "this Hamiltonian, the set $E$ that determines which pairs of qubits have\n",
        "$ZZ$ interactions can be represented by the set of edges for some graph.\n",
        "With the qubits as nodes, this graph is called the *interaction graph*.\n",
        "The $\\theta^{(1)}$ parameters correspond to the edge weights and the\n",
        "$\\theta^{(2)}$ parameters correspond to weights on the nodes.\n"
      ]
    },
    {
      "cell_type": "markdown",
      "metadata": {
        "id": "HgbD3VyvsJdk"
      },
      "source": [
        "This result implies that we can think about *quantum circuits* with\n",
        "graph-theoretic properties. Recall that the time-evolution operator with\n",
        "respect to some Hamiltonian $H$ is defined as:\n",
        "\n",
        "$$U \\ = \\ e^{-it H}.$$\n",
        "\n",
        "Thus, we have a clean way of taking quadratic Hamiltonians and turning\n",
        "them into unitaries (quantum circuits) that preserve the same\n",
        "correspondance to a graph. In the case of the Ising Hamiltonian, we\n",
        "have:\n",
        "\n",
        "$$U_{\\text{Ising}} \\ = \\ e^{-it \\hat{H}_{\\text{Ising}} (\\boldsymbol\\theta)} \\ = \\ \\exp \\Big[ -it\n",
        "\\Big( \\displaystyle\\sum_{(i, j) \\in E} \\theta_{ij}^{(1)} Z_{i} Z_{j} \\ + \\\n",
        "\\displaystyle\\sum_{i} \\theta_{i}^{(2)} Z_{i} \\ + \\ \\displaystyle\\sum_{i} X_{i} \\Big) \\Big]$$\n",
        "\n",
        "In general, this kind of unitary is very difficult to implement on a\n",
        "quantum computer. However, we can approximate it using the\n",
        "[Trotter-Suzuki\n",
        "decomposition](https://en.wikipedia.org/wiki/Time-evolving_block_decimation#The_Suzuki-Trotter_expansion):\n",
        "\n",
        "$$\\exp \\Big[ -it \\Big( \\displaystyle\\sum_{(i, j) \\in E} \\theta_{ij}^{(1)} Z_{i} Z_{j} \\ + \\\n",
        "\\displaystyle\\sum_{i} \\theta_{i}^{(2)} Z_{i} \\ + \\ \\displaystyle\\sum_{i} X_{i} \\Big) \\Big]\n",
        "\\ \\approx \\ \\displaystyle\\prod_{k \\ = \\ 1}^{t / \\Delta} \\Bigg[ \\displaystyle\\prod_{j \\ = \\\n",
        "1}^{Q} e^{-i \\Delta \\hat{H}_{\\text{Ising}}^{j}(\\boldsymbol\\theta)} \\Bigg]$$\n",
        "\n",
        "where $\\hat{H}_{\\text{Ising}}^{j}(\\boldsymbol\\theta)$ is the $j$-th term\n",
        "of the Ising Hamiltonian and $\\Delta$ is some small number.\n",
        "\n",
        "This circuit is a specific instance of the **Quantum Graph Recurrent\n",
        "Neural Network**, which in general is defined as a variational ansatz of\n",
        "the form\n",
        "\n",
        "$$U_{H}(\\boldsymbol\\mu, \\ \\boldsymbol\\gamma) \\ = \\ \\displaystyle\\prod_{i \\ = \\ 1}^{P} \\Bigg[\n",
        "\\displaystyle\\prod_{j \\ = \\ 1}^{Q} e^{-i \\gamma_j H^{j}(\\boldsymbol\\mu)} \\Bigg],$$\n",
        "\n",
        "for some parametrized quadratic Hamiltonian, $H(\\boldsymbol\\mu)$.\n"
      ]
    },
    {
      "cell_type": "markdown",
      "metadata": {
        "id": "RuETMrm6sJdk"
      },
      "source": [
        "Using the QGRNN\n",
        "===============\n"
      ]
    },
    {
      "cell_type": "markdown",
      "metadata": {
        "id": "e1Rh9GsysJdl"
      },
      "source": [
        "Since the QGRNN ansatz is equivalent to the approximate time evolution\n",
        "of some quadratic Hamiltonian, we can use it to learn the dynamics of a\n",
        "quantum system.\n",
        "\n",
        "Continuing with the Ising model example, let's imagine we have some\n",
        "system governed by $\\hat{H}_{\\text{Ising}}(\\boldsymbol\\alpha)$ for an\n",
        "unknown set of target parameters, $\\boldsymbol\\alpha$ and an unknown\n",
        "interaction graph $G$. Let's also suppose we have access to copies of\n",
        "some low-energy, non-ground state of the target Hamiltonian,\n",
        "$|\\psi_0\\rangle$. In addition, we have access to a collection of\n",
        "time-evolved states,\n",
        "$\\{ |\\psi(t_1)\\rangle, \\ |\\psi(t_2)\\rangle, \\ ..., \\ |\\psi(t_N)\\rangle \\}$,\n",
        "defined by:\n",
        "\n",
        "$$|\\psi(t_k)\\rangle \\ = \\ e^{-i t_k \\hat{H}_{\\text{Ising}}(\\boldsymbol\\alpha)} |\\psi_0\\rangle.$$\n",
        "\n",
        "We call the low-energy states and the collection of time-evolved states\n",
        "*quantum data*. From here, we randomly pick a number of time-evolved\n",
        "states from our collection. For any state that we choose, which is\n",
        "evolved to some time $t_k$, we compare it to\n",
        "\n",
        "$$U_{\\hat{H}_{\\text{Ising}}}(\\boldsymbol\\mu, \\ \\Delta) |\\psi_0\\rangle \\ \\approx \\ e^{-i t_k\n",
        "\\hat{H}_{\\text{Ising}}(\\boldsymbol\\mu)} |\\psi_0\\rangle.$$\n",
        "\n",
        "This is done by feeding one of the copies of $|\\psi_0\\rangle$ into a\n",
        "quantum circuit with the QGRNN ansatz, with some guessed set of\n",
        "parameters $\\boldsymbol\\mu$ and a guessed interaction graph, $G'$. We\n",
        "then use a classical optimizer to maximize the average \"similarity\"\n",
        "between the time-evolved states and the states prepared with the QGRNN.\n",
        "\n",
        "As the QGRNN states becomes more similar to each time-evolved state for\n",
        "each sampled time, it follows that\n",
        "$\\boldsymbol\\mu \\ \\rightarrow \\ \\boldsymbol\\alpha$ and we are able to\n",
        "learn the unknown parameters of the Hamiltonian.\n",
        "\n",
        "![A visual representation of one execution of the QGRNN for one piece of\n",
        "quantum data.](../demonstrations/qgrnn/qgrnn3.png){width=\"90%\"}\n"
      ]
    },
    {
      "cell_type": "markdown",
      "metadata": {
        "id": "IBbatsCBsJdm"
      },
      "source": [
        "Learning an Ising Model with the QGRNN\n",
        "======================================\n"
      ]
    },
    {
      "cell_type": "markdown",
      "metadata": {
        "id": "xENcMoBjsJdm"
      },
      "source": [
        "We now attempt to use the QGRNN to learn the parameters corresponding to\n",
        "an arbitrary transverse-field Ising model Hamiltonian.\n"
      ]
    },
    {
      "cell_type": "markdown",
      "metadata": {
        "id": "yxbmKL-tsJdm"
      },
      "source": [
        "Getting Started\n",
        "===============\n"
      ]
    },
    {
      "cell_type": "markdown",
      "metadata": {
        "id": "CnbPsFyasJdn"
      },
      "source": [
        "We begin by importing the necessary dependencies:\n"
      ]
    },
    {
      "cell_type": "code",
      "metadata": {
        "id": "uuehIbfOsJdn"
      },
      "source": [
        "import pennylane as qml\n",
        "from matplotlib import pyplot as plt\n",
        "import numpy as np\n",
        "import scipy\n",
        "import networkx as nx\n",
        "import copy"
      ],
      "execution_count": 2,
      "outputs": []
    },
    {
      "cell_type": "markdown",
      "metadata": {
        "id": "MypxeU_XsJdn"
      },
      "source": [
        "We also define some fixed values that are used throughout the\n",
        "simulation.\n"
      ]
    },
    {
      "cell_type": "code",
      "metadata": {
        "id": "Si69i3OvsJdn"
      },
      "source": [
        "qubit_number = 4\n",
        "qubits = range(qubit_number)"
      ],
      "execution_count": 3,
      "outputs": []
    },
    {
      "cell_type": "markdown",
      "metadata": {
        "id": "vx94ua-JsJdn"
      },
      "source": [
        "In this simulation, we don't have quantum data readily available to pass\n",
        "into the QGRNN, so we have to generate it ourselves. To do this, we must\n",
        "have knowledge of the target interaction graph and the target\n",
        "Hamiltonian.\n",
        "\n",
        "Let us use the following cyclic graph as the target interaction graph of\n",
        "the Ising Hamiltonian:\n"
      ]
    },
    {
      "cell_type": "code",
      "metadata": {
        "colab": {
          "base_uri": "https://localhost:8080/",
          "height": 336
        },
        "id": "S3VZ5xiisJdo",
        "outputId": "1958ced1-feb5-43aa-fe10-a636ece1097e"
      },
      "source": [
        "ising_graph = nx.cycle_graph(qubit_number)\n",
        "\n",
        "print(f\"Edges: {ising_graph.edges}\")\n",
        "nx.draw(ising_graph)"
      ],
      "execution_count": 4,
      "outputs": [
        {
          "output_type": "stream",
          "text": [
            "Edges: [(0, 1), (0, 3), (1, 2), (2, 3)]\n"
          ],
          "name": "stdout"
        },
        {
          "output_type": "display_data",
          "data": {
            "image/png": "[encoded data removed]",
            "text/plain": [
              "<Figure size 432x288 with 1 Axes>"
            ]
          },
          "metadata": {
            "tags": []
          }
        }
      ]
    },
    {
      "cell_type": "markdown",
      "metadata": {
        "id": "VhnOmGyrsJdo"
      },
      "source": [
        "We can then initialize the “unknown” target parameters that describe the\n",
        "target Hamiltonian,\n",
        "$\\boldsymbol\\alpha \\ = \\ \\{\\alpha^{(1)}, \\ \\alpha^{(2)}\\}$. Recall from\n",
        "the introduction that we have defined our parametrized Ising Hamiltonian\n",
        "to be of the form:\n",
        "\n",
        "$$\\hat{H}_{\\text{Ising}}(\\boldsymbol\\theta) \\ = \\ \\displaystyle\\sum_{(i, j) \\in E}\n",
        "\\theta_{ij}^{(1)} Z_{i} Z_{j} \\ + \\ \\displaystyle\\sum_{i} \\theta_{i}^{(2)} Z_{i} \\ + \\\n",
        "\\displaystyle\\sum_{i} X_{i},$$\n",
        "\n",
        "where $E$ is the set of edges in the interaction graph, and $X_i$ and\n",
        "$Z_i$ are the Pauli-X and Pauli-Z on the $i$-th qubit.\n",
        "\n",
        "For this tutorial, we choose the target parameters by sampling from a\n",
        "uniform probability distribution ranging from $-2$ to $2$, with\n",
        "two-decimal precision.\n"
      ]
    },
    {
      "cell_type": "code",
      "metadata": {
        "id": "RAUYVp-isJdo"
      },
      "source": [
        "target_weights = [0.56, 1.24, 1.67, -0.79]\n",
        "target_bias = [-1.44, -1.43, 1.18, -0.93]"
      ],
      "execution_count": 5,
      "outputs": []
    },
    {
      "cell_type": "markdown",
      "metadata": {
        "id": "ZpiiuvqMsJdo"
      },
      "source": [
        "In theory, these parameters can be any value we want, provided they are\n",
        "reasonably small enough that the QGRNN can reach them in a tractable\n",
        "number of optimization steps. In `matrix_params`, the first list\n",
        "represents the $ZZ$ interaction parameters and the second list\n",
        "represents the single-qubit $Z$ parameters.\n",
        "\n",
        "Finally, we use this information to generate the matrix form of the\n",
        "Ising model Hamiltonian in the computational basis:\n"
      ]
    },
    {
      "cell_type": "code",
      "metadata": {
        "colab": {
          "base_uri": "https://localhost:8080/",
          "height": 275
        },
        "id": "huHp1MtGsJdo",
        "outputId": "244f7398-9172-4701-8541-5a274a34813b"
      },
      "source": [
        "def create_hamiltonian_matrix(n_qubits, graph, weights, bias):\n",
        "\n",
        "    full_matrix = np.zeros((2 ** n_qubits, 2 ** n_qubits))\n",
        "\n",
        "    # Creates the interaction component of the Hamiltonian\n",
        "    for i, edge in enumerate(graph.edges):\n",
        "        interaction_term = 1\n",
        "        for qubit in range(0, n_qubits):\n",
        "            if qubit in edge:\n",
        "                interaction_term = np.kron(interaction_term, qml.PauliZ.matrix)\n",
        "            else:\n",
        "                interaction_term = np.kron(interaction_term, np.identity(2))\n",
        "        full_matrix += weights[i] * interaction_term\n",
        "\n",
        "    # Creates the bias components of the matrix\n",
        "    for i in range(0, n_qubits):\n",
        "        z_term = x_term = 1\n",
        "        for j in range(0, n_qubits):\n",
        "            if j == i:\n",
        "                z_term = np.kron(z_term, qml.PauliZ.matrix)\n",
        "                x_term = np.kron(x_term, qml.PauliX.matrix)\n",
        "            else:\n",
        "                z_term = np.kron(z_term, np.identity(2))\n",
        "                x_term = np.kron(x_term, np.identity(2))\n",
        "        full_matrix += bias[i] * z_term + x_term\n",
        "\n",
        "    return full_matrix\n",
        "\n",
        "\n",
        "# Prints a visual representation of the Hamiltonian matrix\n",
        "ham_matrix = create_hamiltonian_matrix(qubit_number, ising_graph, target_weights, target_bias)\n",
        "plt.matshow(ham_matrix, cmap=\"hot\")\n",
        "plt.show()"
      ],
      "execution_count": 6,
      "outputs": [
        {
          "output_type": "display_data",
          "data": {
            "image/png": "[encoded data removed]",
            "text/plain": [
              "<Figure size 288x288 with 1 Axes>"
            ]
          },
          "metadata": {
            "tags": [],
            "needs_background": "light"
          }
        }
      ]
    },
    {
      "cell_type": "markdown",
      "metadata": {
        "id": "z5_wGwRPsJdp"
      },
      "source": [
        "Preparing Quantum Data\n",
        "======================\n"
      ]
    },
    {
      "cell_type": "markdown",
      "metadata": {
        "id": "5wssKChVsJdp"
      },
      "source": [
        "The collection of quantum data needed to run the QGRNN has two\n",
        "components: (i) copies of a low-energy state, and (ii) a collection of\n",
        "time-evolved states, each of which are simply the low-energy state\n",
        "evolved to different times. The following is a low-energy state of the\n",
        "target Hamiltonian:\n"
      ]
    },
    {
      "cell_type": "code",
      "metadata": {
        "id": "ZnFwudbTsJdp"
      },
      "source": [
        "low_energy_state = [\n",
        "    (-0.054661080280306085 + 0.016713907320174026j),\n",
        "    (0.12290003656489545 - 0.03758500591109822j),\n",
        "    (0.3649337966440005 - 0.11158863596657455j),\n",
        "    (-0.8205175732627094 + 0.25093231967092877j),\n",
        "    (0.010369790825776609 - 0.0031706387262686003j),\n",
        "    (-0.02331544978544721 + 0.007129899300113728j),\n",
        "    (-0.06923183949694546 + 0.0211684344103713j),\n",
        "    (0.15566094863283836 - 0.04760201916285508j),\n",
        "    (0.014520590919500158 - 0.004441887836078486j),\n",
        "    (-0.032648113364535575 + 0.009988590222879195j),\n",
        "    (-0.09694382811137187 + 0.02965579457620536j),\n",
        "    (0.21796861485652747 - 0.06668776658411019j),\n",
        "    (-0.0027547112135013247 + 0.0008426289322652901j),\n",
        "    (0.006193695872468649 - 0.0018948418969390599j),\n",
        "    (0.018391279795405405 - 0.005625722994009138j),\n",
        "    (-0.041350974715649635 + 0.012650711602265649j),\n",
        "]"
      ],
      "execution_count": 7,
      "outputs": []
    },
    {
      "cell_type": "markdown",
      "metadata": {
        "id": "2jJTk87-sJdp"
      },
      "source": [
        "This state can be obtained by using a decoupled version of the\n",
        "Variational Quantum Eigensolver &lt;/demos/tutorial\\_vqe&gt; algorithm\n",
        "(VQE). Essentially, we choose a VQE ansatz such that the circuit cannot\n",
        "learn the exact ground state, but it can get fairly close. Another way\n",
        "to arrive at the same result is to perform VQE with a reasonable ansatz,\n",
        "but to terminate the algorithm before it converges to the ground state.\n",
        "If we used the exact ground state $|\\psi_0\\rangle$, the time-dependence\n",
        "would be trivial and the data would not provide enough information about\n",
        "the Hamiltonian parameters.\n",
        "\n",
        "We can verify that this is a low-energy state by numerically finding the\n",
        "lowest eigenvalue of the Hamiltonian and comparing it to the energy\n",
        "expectation of this low-energy state:\n"
      ]
    },
    {
      "cell_type": "code",
      "metadata": {
        "colab": {
          "base_uri": "https://localhost:8080/"
        },
        "id": "9qMphnvjsJdq",
        "outputId": "84c9438c-5823-483c-cf6c-85e97fbfcc00"
      },
      "source": [
        "res = np.vdot(low_energy_state, (ham_matrix @ low_energy_state))\n",
        "energy_exp = np.real_if_close(res)\n",
        "print(f\"Energy Expectation: {energy_exp}\")\n",
        "\n",
        "\n",
        "ground_state_energy = np.real_if_close(min(np.linalg.eig(ham_matrix)[0]))\n",
        "print(f\"Ground State Energy: {ground_state_energy}\")"
      ],
      "execution_count": 8,
      "outputs": [
        {
          "output_type": "stream",
          "text": [
            "Energy Expectation: -7.244508985189116\n",
            "Ground State Energy: -7.330689661291249\n"
          ],
          "name": "stdout"
        }
      ]
    },
    {
      "cell_type": "markdown",
      "metadata": {
        "id": "r1ZhzMx1sJdq"
      },
      "source": [
        "We have in fact found a low-energy, non-ground state, as the energy\n",
        "expectation is slightly greater than the energy of the true ground\n",
        "state. This, however, is only half of the information we need. We also\n",
        "require a collection of time-evolved, low-energy states. Evolving the\n",
        "low-energy state forward in time is fairly straightforward: all we have\n",
        "to do is multiply the initial state by a time-evolution unitary. This\n",
        "operation can be defined as a custom gate in PennyLane:\n"
      ]
    },
    {
      "cell_type": "code",
      "metadata": {
        "id": "wVhvM3absJdq"
      },
      "source": [
        "def state_evolve(hamiltonian, qubits, time):\n",
        "\n",
        "    U = scipy.linalg.expm(-1j * hamiltonian * time)\n",
        "    qml.QubitUnitary(U, wires=qubits)"
      ],
      "execution_count": 9,
      "outputs": []
    },
    {
      "cell_type": "markdown",
      "metadata": {
        "id": "so0VYnBbsJdq"
      },
      "source": [
        "We don't actually generate time-evolved quantum data quite yet, but we\n",
        "now have all the pieces required for its preparation.\n"
      ]
    },
    {
      "cell_type": "markdown",
      "metadata": {
        "id": "GXC3wsuVsJdq"
      },
      "source": [
        "Learning the Hamiltonian\n",
        "========================\n"
      ]
    },
    {
      "cell_type": "markdown",
      "metadata": {
        "id": "Pn0HF22vsJdr"
      },
      "source": [
        "With the quantum data defined, we are able to construct the QGRNN and\n",
        "learn the target Hamiltonian. Each of the exponentiated Hamiltonians in\n",
        "the QGRNN ansatz, $\\hat{H}^{j}_{\\text{Ising}}(\\boldsymbol\\mu)$, are the\n",
        "$ZZ$, $Z$, and $X$ terms from the Ising Hamiltonian. This gives:\n"
      ]
    },
    {
      "cell_type": "code",
      "metadata": {
        "id": "3dnfWW6dsJdr"
      },
      "source": [
        "def qgrnn_layer(weights, bias, qubits, graph, trotter_step):\n",
        "\n",
        "    # Applies a layer of RZZ gates (based on a graph)\n",
        "    for i, edge in enumerate(graph.edges):\n",
        "        qml.MultiRZ(2 * weights[i] * trotter_step, wires=(edge[0], edge[1]))\n",
        "\n",
        "    # Applies a layer of RZ gates\n",
        "    for i, qubit in enumerate(qubits):\n",
        "        qml.RZ(2 * bias[i] * trotter_step, wires=qubit)\n",
        "\n",
        "    # Applies a layer of RX gates\n",
        "    for qubit in qubits:\n",
        "        qml.RX(2 * trotter_step, wires=qubit)"
      ],
      "execution_count": 10,
      "outputs": []
    },
    {
      "cell_type": "markdown",
      "metadata": {
        "id": "OvATwkbGsJdr"
      },
      "source": [
        "As was mentioned in the first section, the QGRNN has two registers. In\n",
        "one register, some piece of quantum data $|\\psi(t)\\rangle$ is prepared\n",
        "and in the other we have\n",
        "$U_{H}(\\boldsymbol\\mu, \\ \\Delta) |\\psi_0\\rangle$. We need a way to\n",
        "measure the similarity between these states. This can be done by using\n",
        "the fidelity, which is simply the modulus squared of the inner product\n",
        "between the states,\n",
        "$| \\langle \\psi(t) | U_{H}(\\Delta, \\ \\boldsymbol\\mu) |\\psi_0\\rangle |^2$.\n",
        "To calculate this value, we use a [SWAP\n",
        "test](https://en.wikipedia.org/wiki/Swap_test) between the registers:\n"
      ]
    },
    {
      "cell_type": "code",
      "metadata": {
        "id": "bXXYIcZWsJdr"
      },
      "source": [
        "def swap_test(control, register1, register2):\n",
        "\n",
        "    qml.Hadamard(wires=control)\n",
        "    for reg1_qubit, reg2_qubit in zip(register1, register2):\n",
        "        qml.CSWAP(wires=(control, reg1_qubit, reg2_qubit))\n",
        "    qml.Hadamard(wires=control)"
      ],
      "execution_count": 11,
      "outputs": []
    },
    {
      "cell_type": "markdown",
      "metadata": {
        "id": "GfE6kBdLsJdr"
      },
      "source": [
        "After performing this procedure, the value returned from a measurement\n",
        "of the circuit is $\\langle Z \\rangle$, with respect to the `control`\n",
        "qubit. The probability of measuring the $|0\\rangle$ state in this\n",
        "control qubit is related to both the fidelity between registers and\n",
        "$\\langle Z \\rangle$. Thus, with a bit of algebra, we find that\n",
        "$\\langle Z \\rangle$ is equal to the fidelity.\n",
        "\n",
        "Before creating the full QGRNN and the cost function, we define a few\n",
        "more fixed values. Among these is a \"guessed\" interaction graph, which\n",
        "we set to be a [complete\n",
        "graph](https://en.wikipedia.org/wiki/Complete_graph). This choice is\n",
        "motivated by the fact that any target interaction graph will be a\n",
        "subgraph of this initial guess. Part of the idea behind the QGRNN is\n",
        "that we don’t know the interaction graph, and it has to be learned. In\n",
        "this case, the graph is learned *automatically* as the target parameters\n",
        "are optimized. The $\\boldsymbol\\mu$ parameters that correspond to edges\n",
        "that don't exist in the target graph will simply approach $0$.\n"
      ]
    },
    {
      "cell_type": "code",
      "metadata": {
        "colab": {
          "base_uri": "https://localhost:8080/",
          "height": 336
        },
        "id": "SezqTy8lsJds",
        "outputId": "3d5e9180-13cd-4c76-f34b-718ddefb32e3"
      },
      "source": [
        "# Defines some fixed values\n",
        "\n",
        "reg1 = tuple(range(qubit_number))  # First qubit register\n",
        "reg2 = tuple(range(qubit_number, 2 * qubit_number))  # Second qubit register\n",
        "\n",
        "control = 2 * qubit_number  # Index of control qubit\n",
        "trotter_step = 0.01  # Trotter step size\n",
        "\n",
        "# Defines the interaction graph for the new qubit system\n",
        "\n",
        "new_ising_graph = nx.complete_graph(reg2)\n",
        "\n",
        "print(f\"Edges: {new_ising_graph.edges}\")\n",
        "nx.draw(new_ising_graph)"
      ],
      "execution_count": 12,
      "outputs": [
        {
          "output_type": "stream",
          "text": [
            "Edges: [(4, 5), (4, 6), (4, 7), (5, 6), (5, 7), (6, 7)]\n"
          ],
          "name": "stdout"
        },
        {
          "output_type": "display_data",
          "data": {
            "image/png": "[encoded data removed]",
            "text/plain": [
              "<Figure size 432x288 with 1 Axes>"
            ]
          },
          "metadata": {
            "tags": []
          }
        }
      ]
    },
    {
      "cell_type": "markdown",
      "metadata": {
        "id": "XbhsgNensJds"
      },
      "source": [
        "With this done, we implement the QGRNN circuit for some given time\n",
        "value:\n"
      ]
    },
    {
      "cell_type": "code",
      "metadata": {
        "id": "SsiujZu5sJdt"
      },
      "source": [
        "def qgrnn(weights, bias, time=None):\n",
        "\n",
        "    # Prepares the low energy state in the two registers\n",
        "    qml.QubitStateVector(np.kron(low_energy_state, low_energy_state), wires=reg1 + reg2)\n",
        "\n",
        "    # Evolves the first qubit register with the time-evolution circuit to\n",
        "    # prepare a piece of quantum data\n",
        "    state_evolve(ham_matrix, reg1, time)\n",
        "\n",
        "    # Applies the QGRNN layers to the second qubit register\n",
        "    depth = time / trotter_step  # P = t/Delta\n",
        "    for _ in range(0, int(depth)):\n",
        "        qgrnn_layer(weights, bias, reg2, new_ising_graph, trotter_step)\n",
        "\n",
        "    # Applies the SWAP test between the registers\n",
        "    swap_test(control, reg1, reg2)\n",
        "\n",
        "    # Returns the results of the SWAP test\n",
        "    return qml.expval(qml.PauliZ(control))"
      ],
      "execution_count": 13,
      "outputs": []
    },
    {
      "cell_type": "markdown",
      "metadata": {
        "id": "Wq7ufE4YsJdt"
      },
      "source": [
        "We have the full QGRNN circuit, but we still need to define a cost\n",
        "function. We know that\n",
        "$| \\langle \\psi(t) | U_{H}(\\boldsymbol\\mu, \\ \\Delta) |\\psi_0\\rangle |^2$\n",
        "approaches $1$ as the states become more similar and approaches $0$ as\n",
        "the states become orthogonal. Thus, we choose to minimize the quantity\n",
        "$-| \\langle \\psi(t) | U_{H}(\\boldsymbol\\mu, \\ \\Delta) |\\psi_0\\rangle |^2$.\n",
        "Since we are interested in calculating this value for many different\n",
        "pieces of quantum data, the final cost function is the average negative\n",
        "fidelity\\* between registers:\n",
        "\n",
        "$$\\mathcal{L}(\\boldsymbol\\mu, \\ \\Delta) \\ = \\ - \\frac{1}{N} \\displaystyle\\sum_{i \\ = \\ 1}^{N} |\n",
        "\\langle \\psi(t_i) | \\ U_{H}(\\boldsymbol\\mu, \\ \\Delta) \\ |\\psi_0\\rangle |^2,$$\n",
        "\n",
        "where we use $N$ pieces of quantum data.\n",
        "\n",
        "Before creating the cost function, we must define a few more fixed\n",
        "variables:\n"
      ]
    },
    {
      "cell_type": "code",
      "metadata": {
        "id": "IaHaXkqwsJdt"
      },
      "source": [
        "N = 15  # The number of pieces of quantum data that are used for each step\n",
        "max_time = 0.1  # The maximum value of time that can be used for quantum data"
      ],
      "execution_count": 14,
      "outputs": []
    },
    {
      "cell_type": "markdown",
      "metadata": {
        "id": "DHpjC6pSsJdt"
      },
      "source": [
        "We then define the negative fidelity cost function:\n"
      ]
    },
    {
      "cell_type": "code",
      "metadata": {
        "id": "01-VUtLBsJdt"
      },
      "source": [
        "rng = np.random.default_rng(seed=42)\n",
        "\n",
        "def cost_function(weight_params, bias_params):\n",
        "\n",
        "    # Randomly samples times at which the QGRNN runs\n",
        "    times_sampled = rng.random(size=N) * max_time\n",
        "\n",
        "    # Cycles through each of the sampled times and calculates the cost\n",
        "    total_cost = 0\n",
        "    for dt in times_sampled:\n",
        "        result = qgrnn_qnode(weight_params, bias_params, time=dt)\n",
        "        total_cost += -1 * result\n",
        "\n",
        "    return total_cost / N"
      ],
      "execution_count": 15,
      "outputs": []
    },
    {
      "cell_type": "markdown",
      "metadata": {
        "id": "4J9D1_7-sJdu"
      },
      "source": [
        "Next we set up for optimization.\n"
      ]
    },
    {
      "cell_type": "code",
      "metadata": {
        "id": "grUTHEphsJdu"
      },
      "source": [
        "# Defines the new device\n",
        "qgrnn_dev = qml.device(\"default.qubit\", wires=2 * qubit_number + 1)\n",
        "\n",
        "# Defines the new QNode\n",
        "qgrnn_qnode = qml.QNode(qgrnn, qgrnn_dev)\n",
        "\n",
        "steps = 20\n",
        "\n",
        "optimizer = qml.AdamOptimizer(stepsize=0.5)\n",
        "\n",
        "weights = rng.random(size=len(new_ising_graph.edges)) - 0.5\n",
        "bias = rng.random(size=qubit_number) - 0.5\n",
        "\n",
        "initial_weights = copy.copy(weights)\n",
        "initial_bias = copy.copy(bias)"
      ],
      "execution_count": 18,
      "outputs": []
    },
    {
      "cell_type": "markdown",
      "metadata": {
        "id": "EbAXkSQusJdu"
      },
      "source": [
        "All that remains is executing the optimization loop.\n"
      ]
    },
    {
      "cell_type": "code",
      "metadata": {
        "colab": {
          "base_uri": "https://localhost:8080/"
        },
        "id": "nooMWNa0sJdu",
        "outputId": "e2b9c061-d5ae-4476-fb14-1824eca750b4"
      },
      "source": [
        "for i in range(0, steps):\n",
        "    (weights, bias), cost = optimizer.step_and_cost(cost_function, weights, bias)\n",
        "\n",
        "    # Prints the value of the cost function\n",
        "    if i % 5 == 0:\n",
        "        print(f\"Cost at Step {i}: {cost}\")\n",
        "        print(f\"Weights at Step {i}: {weights}\")\n",
        "        print(f\"Bias at Step {i}: {bias}\")\n",
        "        print(\"---------------------------------------------\")"
      ],
      "execution_count": 19,
      "outputs": [
        {
          "output_type": "stream",
          "text": [
            "Cost at Step 0: -0.9878160824442112\n",
            "Weights at Step 0: [-0.53067194  0.15067181  0.18092597  0.90710214  0.04464822 -0.76714681]\n",
            "Bias at Step 0: [-0.70793903 -0.5097999   0.58644189  0.49328887]\n",
            "---------------------------------------------\n",
            "Cost at Step 5: -0.9731403777752663\n",
            "Weights at Step 5: [-1.46275781  1.13121595  0.99289961  1.97546053  0.73787194 -1.46121159]\n",
            "Bias at Step 5: [-1.63439182 -1.53308094  1.69979884  1.08358904]\n",
            "---------------------------------------------\n",
            "Cost at Step 10: -0.9814725413928108\n",
            "Weights at Step 10: [-1.28486173  1.05285223  0.68208756  2.07867694  0.23000248 -0.96240487]\n",
            "Bias at Step 10: [-1.44887645 -1.54165821  1.89895953  0.43017646]\n",
            "---------------------------------------------\n",
            "Cost at Step 15: -0.9980014360540701\n",
            "Weights at Step 15: [-0.77952561  0.64711382  0.24146788  1.84577111 -0.36777906 -0.38417659]\n",
            "Bias at Step 15: [-0.94747881 -1.21805771  1.75659503 -0.24571435]\n",
            "---------------------------------------------\n"
          ],
          "name": "stdout"
        }
      ]
    },
    {
      "cell_type": "markdown",
      "metadata": {
        "id": "D1vn5ZzpsJdu"
      },
      "source": [
        "With the learned parameters, we construct a visual representation of the\n",
        "Hamiltonian to which they correspond and compare it to the target\n",
        "Hamiltonian, and the initial guessed Hamiltonian:\n"
      ]
    },
    {
      "cell_type": "code",
      "metadata": {
        "colab": {
          "base_uri": "https://localhost:8080/",
          "height": 155
        },
        "id": "8IMiyn4_sJdu",
        "outputId": "97c6ac24-b10f-498f-d0b7-a9569784f8e4"
      },
      "source": [
        "new_ham_matrix = create_hamiltonian_matrix(\n",
        "    qubit_number, nx.complete_graph(qubit_number), weights, bias\n",
        ")\n",
        "\n",
        "init_ham = create_hamiltonian_matrix(\n",
        "    qubit_number, nx.complete_graph(qubit_number), initial_weights, initial_bias\n",
        ")\n",
        "\n",
        "fig, axes = plt.subplots(nrows=1, ncols=3, figsize=(6, 6))\n",
        "\n",
        "axes[0].matshow(ham_matrix, vmin=-7, vmax=7, cmap=\"hot\")\n",
        "axes[0].set_title(\"Target\", y=1.13)\n",
        "\n",
        "axes[1].matshow(init_ham, vmin=-7, vmax=7, cmap=\"hot\")\n",
        "axes[1].set_title(\"Initial\", y=1.13)\n",
        "\n",
        "axes[2].matshow(new_ham_matrix, vmin=-7, vmax=7, cmap=\"hot\")\n",
        "axes[2].set_title(\"Learned\", y=1.13)\n",
        "\n",
        "plt.subplots_adjust(wspace=0.3, hspace=0.3)\n",
        "plt.show()"
      ],
      "execution_count": 20,
      "outputs": [
        {
          "output_type": "display_data",
          "data": {
            "image/png": "[encoded data removed]",
            "text/plain": [
              "<Figure size 432x432 with 3 Axes>"
            ]
          },
          "metadata": {
            "tags": [],
            "needs_background": "light"
          }
        }
      ]
    },
    {
      "cell_type": "markdown",
      "metadata": {
        "id": "DB3eA_TasJdu"
      },
      "source": [
        "These images look very similar, indicating that the QGRNN has done a\n",
        "good job learning the target Hamiltonian.\n",
        "\n",
        "We can also look at the exact values of the target and learned\n",
        "parameters. Recall how the target interaction graph has $4$ edges while\n",
        "the complete graph has $6$. Thus, as the QGRNN converges to the optimal\n",
        "solution, the weights corresponding to edges $(1, 3)$ and $(2, 0)$ in\n",
        "the complete graph should go to $0$, as this indicates that they have no\n",
        "effect, and effectively do not exist in the learned Hamiltonian.\n"
      ]
    },
    {
      "cell_type": "code",
      "metadata": {
        "id": "snPz0lW3sJdu"
      },
      "source": [
        "# We first pick out the weights of edges (1, 3) and (2, 0)\n",
        "# and then remove them from the list of target parameters\n",
        "\n",
        "weights_noedge = []\n",
        "weights_edge = []\n",
        "for ii, edge in enumerate(new_ising_graph.edges):\n",
        "    if (edge[0] - qubit_number, edge[1] - qubit_number) in ising_graph.edges:\n",
        "        weights_edge.append(weights[ii])\n",
        "    else:\n",
        "        weights_noedge.append(weights[ii])"
      ],
      "execution_count": 21,
      "outputs": []
    },
    {
      "cell_type": "markdown",
      "metadata": {
        "id": "E5J_zTS-sJdv"
      },
      "source": [
        "Then, we print all of the weights:\n"
      ]
    },
    {
      "cell_type": "code",
      "metadata": {
        "colab": {
          "base_uri": "https://localhost:8080/"
        },
        "id": "HhwxOyoYsJdv",
        "outputId": "a06b9812-5777-4b7f-c8f0-5693e25053ce"
      },
      "source": [
        "print(\"Target parameters     Learned parameters\")\n",
        "print(\"Weights\")\n",
        "print(\"-\" * 41)\n",
        "for ii_target, ii_learned in zip(target_weights, weights_edge):\n",
        "    print(f\"{ii_target : <20}|{ii_learned : >20}\")\n",
        "\n",
        "print(\"\\nBias\")\n",
        "print(\"-\"*41)\n",
        "for ii_target, ii_learned in zip(target_bias, bias):\n",
        "    print(f\"{ii_target : <20}|{ii_learned : >20}\")\n",
        "\n",
        "print(f\"\\nNon-Existing Edge Parameters: {[val.unwrap() for val in weights_noedge]}\")"
      ],
      "execution_count": 22,
      "outputs": [
        {
          "output_type": "stream",
          "text": [
            "Target parameters     Learned parameters\n",
            "Weights\n",
            "-----------------------------------------\n",
            "0.56                |-0.38023365735527587\n",
            "1.24                | 0.12428409466769798\n",
            "1.67                |  1.6078168211647699\n",
            "-0.79               |-0.21904696625614384\n",
            "\n",
            "Bias\n",
            "-----------------------------------------\n",
            "-1.44               | -0.5730914533643356\n",
            "-1.43               | -0.9289601058811661\n",
            "1.18                |  1.5641113347176148\n",
            "-0.93               |-0.41551711546688064\n",
            "\n",
            "Non-Existing Edge Parameters: [0.3161936262494266, -0.5577718696039904]\n"
          ],
          "name": "stdout"
        }
      ]
    },
    {
      "cell_type": "markdown",
      "metadata": {
        "id": "sn8qlY0isJdv"
      },
      "source": [
        "The weights of edges $(1, 3)$ and $(2, 0)$ are very close to $0$,\n",
        "indicating we have learned the cycle graph from the complete graph. In\n",
        "addition, the remaining learned weights are fairly close to those of the\n",
        "target Hamiltonian. Thus, the QGRNN is functioning properly, and has\n",
        "learned the target Ising Hamiltonian to a high degree of accuracy!\n"
      ]
    },
    {
      "cell_type": "markdown",
      "metadata": {
        "id": "zzJvpW9RsJdv"
      },
      "source": [
        "References\n",
        "==========\n",
        "\n",
        "1.  Verdon, G., McCourt, T., Luzhnica, E., Singh, V., Leichenauer, S., &\n",
        "    Hidary, J. (2019). Quantum Graph Neural Networks. arXiv preprint\n",
        "    [arXiv:1909.12264](https://arxiv.org/abs/1909.12264).\n",
        "\n"
      ]
    }
  ]
}