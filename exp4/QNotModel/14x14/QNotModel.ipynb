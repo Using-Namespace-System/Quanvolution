{
 "cells": [
  {
   "cell_type": "code",
   "execution_count": 1,
   "metadata": {},
   "outputs": [
    {
     "name": "stderr",
     "output_type": "stream",
     "text": [
      "2024-05-14 00:10:41.213802: E external/local_xla/xla/stream_executor/cuda/cuda_dnn.cc:9261] Unable to register cuDNN factory: Attempting to register factory for plugin cuDNN when one has already been registered\n",
      "2024-05-14 00:10:41.213845: E external/local_xla/xla/stream_executor/cuda/cuda_fft.cc:607] Unable to register cuFFT factory: Attempting to register factory for plugin cuFFT when one has already been registered\n",
      "2024-05-14 00:10:41.214825: E external/local_xla/xla/stream_executor/cuda/cuda_blas.cc:1515] Unable to register cuBLAS factory: Attempting to register factory for plugin cuBLAS when one has already been registered\n",
      "2024-05-14 00:10:41.220868: I tensorflow/core/platform/cpu_feature_guard.cc:182] This TensorFlow binary is optimized to use available CPU instructions in performance-critical operations.\n",
      "To enable the following instructions: AVX2 AVX512F FMA, in other operations, rebuild TensorFlow with the appropriate compiler flags.\n",
      "2024-05-14 00:10:41.996607: W tensorflow/compiler/tf2tensorrt/utils/py_utils.cc:38] TF-TRT Warning: Could not find TensorRT\n"
     ]
    },
    {
     "data": {
      "text/html": [
       "\n",
       "      <iframe id=\"tensorboard-frame-fd6169c574d4b411\" width=\"100%\" height=\"800\" frameborder=\"0\">\n",
       "      </iframe>\n",
       "      <script>\n",
       "        (function() {\n",
       "          const frame = document.getElementById(\"tensorboard-frame-fd6169c574d4b411\");\n",
       "          const url = new URL(\"/\", window.location);\n",
       "          const port = 6006;\n",
       "          if (port) {\n",
       "            url.port = port;\n",
       "          }\n",
       "          frame.src = url;\n",
       "        })();\n",
       "      </script>\n",
       "    "
      ],
      "text/plain": [
       "<IPython.core.display.HTML object>"
      ]
     },
     "metadata": {},
     "output_type": "display_data"
    },
    {
     "name": "stdout",
     "output_type": "stream",
     "text": [
      "WARNING:tensorflow:`write_grads` will be ignored in TensorFlow 2.0 for the `TensorBoard` Callback.\n"
     ]
    },
    {
     "data": {
      "text/plain": [
       "[PhysicalDevice(name='/physical_device:CPU:0', device_type='CPU')]"
      ]
     },
     "execution_count": 1,
     "metadata": {},
     "output_type": "execute_result"
    }
   ],
   "source": [
    "%load_ext tensorboard\n",
    "import pennylane as qml\n",
    "from pennylane import numpy as np\n",
    "from pennylane.templates import RandomLayers\n",
    "import tensorflow as tf\n",
    "from tensorflow import keras\n",
    "import matplotlib.pyplot as plt\n",
    "import os\n",
    "from datetime import datetime\n",
    "\n",
    "#Hide GPU\n",
    "tf.config.set_visible_devices([], 'GPU')\n",
    "\n",
    "%tensorboard --logdir logs/scalars/\n",
    "\n",
    "\n",
    "tensorboard_callback = keras.callbacks.TensorBoard(\n",
    "    log_dir= \"logs/scalars/\" + datetime.now().strftime(\"%Y%m%d-%H%M%S\"),\n",
    "    histogram_freq=0,\n",
    "    write_graph=True,\n",
    "    write_grads=True\n",
    "    )\n",
    "\n",
    "checkpoint_path = \"./training_2/cp-{epoch:04d}.ckpt\"\n",
    "checkpoint_dir = os.path.dirname(checkpoint_path)\n",
    "\n",
    "cp_callback = tf.keras.callbacks.ModelCheckpoint(\n",
    "   checkpoint_path, verbose=1, save_weights_only=True,\n",
    "   # Save weights, every epoch.\n",
    "   save_freq='epoch')\n",
    "\n",
    "\n",
    "n_epochs = 30   # Number of optimization epochs\n",
    "n_layers = 1    # Number of random layers\n",
    "n_train = 60000    # Size of the train dataset\n",
    "n_test = 10000    # Size of the test dataset\n",
    "n_batches = 4     # Size of the batches\n",
    "\n",
    "np.random.seed(0)           # Seed for NumPy random number generator\n",
    "tf.random.set_seed(0)       # Seed for TensorFlow random number generator\n",
    "\n",
    "\n",
    "mnist_dataset = keras.datasets.mnist\n",
    "(train_images, train_labels), (test_images, test_labels) = mnist_dataset.load_data()\n",
    "\n",
    "\n",
    "\n",
    "# Reduce dataset size\n",
    "train_images = train_images[:n_train]\n",
    "train_labels = train_labels[:n_train]\n",
    "test_images = test_images[:n_test]\n",
    "test_labels = test_labels[:n_test]\n",
    "\n",
    "\n",
    "\n",
    "tf.config.get_visible_devices()\n"
   ]
  },
  {
   "cell_type": "code",
   "execution_count": 2,
   "metadata": {},
   "outputs": [],
   "source": [
    "\n",
    "# Normalize pixel values within 0 and 1\n",
    "train_images = train_images / 255\n",
    "test_images = test_images / 255\n",
    "\n",
    "# Add extra dimension for convolution channels\n",
    "train_images = np.array(train_images[..., tf.newaxis], requires_grad=False)\n",
    "test_images = np.array(test_images[..., tf.newaxis], requires_grad=False)\n",
    "\n",
    "n_qubits = 4\n",
    "\n",
    "dev = qml.device(\"default.qubit.tf\", wires=n_qubits)\n",
    "\n",
    "\n",
    "\n"
   ]
  },
  {
   "cell_type": "code",
   "execution_count": 3,
   "metadata": {},
   "outputs": [],
   "source": [
    "@keras.utils.register_keras_serializable()\n",
    "class ConvQLayer(qml.qnn.KerasLayer):\n",
    "    \n",
    "    @qml.qnode(dev, interface='tf')\n",
    "    def qnotnode(inputs):\n",
    "        inputs *= np.pi\n",
    "        # Encoding of 4 classical input values\n",
    "        qml.AngleEmbedding(inputs, wires=range(n_qubits), rotation='Y')\n",
    "\n",
    "        # Filter from arxiv.org/abs/2308.14930\n",
    "\n",
    "        qml.CNOT(wires=[1, 2])\n",
    "        qml.CNOT(wires=[0, 3])\n",
    "\n",
    "\n",
    "        # Measurement producing 4 classical output values\n",
    "        return [qml.expval(qml.PauliZ(j)) for j in range(n_qubits)]\n",
    "          \n",
    "\n",
    "\n",
    "    def __init__(self,qnode=None, weight_shapes={}, output_dim=[14,14,n_qubits],  *args, **kwargs):\n",
    "       super().__init__(qnode=self.qnotnode,weight_shapes=weight_shapes, output_dim=output_dim, *args, **kwargs)\n",
    "       \n",
    "       \n",
    "    \n",
    "    @tf.function(input_signature=(tf.TensorSpec(shape=[n_qubits, 3], dtype=tf.int64), tf.TensorSpec(shape=[28,28,1], dtype=tf.float32),))\n",
    "    def ops(self, op, subject):      \n",
    "      qnode_inputs = []\n",
    "      qnode_inputs = tf.gather_nd(subject,op)\n",
    "      return tf.dtypes.cast(super().call(qnode_inputs), tf.float32)\n",
    "\n",
    "\n",
    "    @tf.function(input_signature=(tf.TensorSpec(shape=[28, 28, 1], dtype=tf.float32),))\n",
    "    def squares(self, inputs):\n",
    "      return tf.reshape(\n",
    "        tf.map_fn(lambda x: self.ops(x, inputs), \n",
    "                        self.operations,\n",
    "                        parallel_iterations=196,\n",
    "                        fn_output_signature=tf.TensorSpec(shape=[n_qubits,], dtype=tf.float32)\n",
    "                        ),\n",
    "          [14,14,n_qubits])\n",
    "\n",
    "    @tf.function(input_signature=(tf.TensorSpec(shape=[n_batches,28,28,1], dtype=tf.float32),))\n",
    "    def batches(self, data):\n",
    "      return tf.map_fn(lambda x: self.squares(x), \n",
    "                      data,\n",
    "                        parallel_iterations=n_batches,\n",
    "                        fn_output_signature=tf.TensorSpec(shape=[14,14, n_qubits], dtype=tf.float32)\n",
    "                        )\n",
    "\n",
    "    def call(self, inputs):\n",
    "      operation = []\n",
    "      for j in range(0, 28, 2):\n",
    "          for k in range(0, 28, 2):\n",
    "              operation.append(\n",
    "                  [\n",
    "                      [j, k, 0],\n",
    "                      [j, k + 1, 0],\n",
    "                      [j + 1, k, 0],\n",
    "                      [j + 1, k + 1, 0]\n",
    "                  ]\n",
    "              )\n",
    "      self.operations = tf.convert_to_tensor(np.asarray(operation))\n",
    "      return self.batches(inputs)\n",
    "\n",
    "qlayer = ConvQLayer()\n",
    "\n",
    "qlayer.trainable = False"
   ]
  },
  {
   "cell_type": "code",
   "execution_count": 4,
   "metadata": {},
   "outputs": [],
   "source": [
    "def Pre_Model():\n",
    "    \"\"\"Initializes and returns a custom Keras model\n",
    "    which is ready to be trained.\"\"\"\n",
    "    model = keras.models.Sequential([\n",
    "        qlayer\n",
    "    ])\n",
    "    model.compile(\n",
    "        optimizer='adam',\n",
    "        loss=\"sparse_categorical_crossentropy\",\n",
    "        metrics=[\"accuracy\"],\n",
    "    )\n",
    "    return model\n",
    "pre_model = Pre_Model()"
   ]
  },
  {
   "cell_type": "code",
   "execution_count": 5,
   "metadata": {},
   "outputs": [
    {
     "name": "stdout",
     "output_type": "stream",
     "text": [
      "WARNING:tensorflow:AutoGraph could not transform <function _gcd_import at 0x70f32a6efd80> and will run it as-is.\n",
      "Cause: Unable to locate the source code of <function _gcd_import at 0x70f32a6efd80>. Note that functions defined in certain environments, like the interactive Python shell, do not expose their source code. If that is the case, you should define them in a .py source file. If you are certain the code is graph-compatible, wrap the call using @tf.autograph.experimental.do_not_convert. Original error: could not get source code\n",
      "To silence this warning, decorate the function with @tf.autograph.experimental.do_not_convert\n",
      "WARNING: AutoGraph could not transform <function _gcd_import at 0x70f32a6efd80> and will run it as-is.\n",
      "Cause: Unable to locate the source code of <function _gcd_import at 0x70f32a6efd80>. Note that functions defined in certain environments, like the interactive Python shell, do not expose their source code. If that is the case, you should define them in a .py source file. If you are certain the code is graph-compatible, wrap the call using @tf.autograph.experimental.do_not_convert. Original error: could not get source code\n",
      "To silence this warning, decorate the function with @tf.autograph.experimental.do_not_convert\n",
      "15000/15000 [==============================] - 560s 37ms/step\n",
      "2500/2500 [==============================] - 91s 37ms/step\n",
      "Epoch 1/30\n"
     ]
    },
    {
     "name": "stderr",
     "output_type": "stream",
     "text": [
      "2024-05-14 00:21:43.935981: I external/local_xla/xla/service/service.cc:168] XLA service 0x70f178068d90 initialized for platform Host (this does not guarantee that XLA will be used). Devices:\n",
      "2024-05-14 00:21:43.936014: I external/local_xla/xla/service/service.cc:176]   StreamExecutor device (0): Host, Default Version\n",
      "2024-05-14 00:21:43.942683: I tensorflow/compiler/mlir/tensorflow/utils/dump_mlir_util.cc:269] disabling MLIR crash reproducer, set env var `MLIR_CRASH_REPRODUCER_DIRECTORY` to enable.\n",
      "WARNING: All log messages before absl::InitializeLog() is called are written to STDERR\n",
      "I0000 00:00:1715646103.970424    6906 device_compiler.h:186] Compiled cluster using XLA!  This line is logged at most once for the lifetime of the process.\n",
      "2024-05-14 00:21:43.971828: E external/local_xla/xla/stream_executor/stream_executor_internal.h:177] SetPriority unimplemented for this stream.\n",
      "2024-05-14 00:21:43.971949: E external/local_xla/xla/stream_executor/stream_executor_internal.h:177] SetPriority unimplemented for this stream.\n"
     ]
    },
    {
     "name": "stdout",
     "output_type": "stream",
     "text": [
      "\n",
      "Epoch 1: saving model to ./training_2/cp-0001.ckpt\n",
      "15000/15000 - 28s - loss: 0.3485 - accuracy: 0.8949 - val_loss: 0.2355 - val_accuracy: 0.9309 - 28s/epoch - 2ms/step\n",
      "Epoch 2/30\n",
      "\n",
      "Epoch 2: saving model to ./training_2/cp-0002.ckpt\n",
      "15000/15000 - 27s - loss: 0.2494 - accuracy: 0.9276 - val_loss: 0.2233 - val_accuracy: 0.9366 - 27s/epoch - 2ms/step\n",
      "Epoch 3/30\n",
      "\n",
      "Epoch 3: saving model to ./training_2/cp-0003.ckpt\n",
      "15000/15000 - 26s - loss: 0.2331 - accuracy: 0.9324 - val_loss: 0.1997 - val_accuracy: 0.9456 - 26s/epoch - 2ms/step\n",
      "Epoch 4/30\n",
      "\n",
      "Epoch 4: saving model to ./training_2/cp-0004.ckpt\n",
      "15000/15000 - 27s - loss: 0.2244 - accuracy: 0.9358 - val_loss: 0.2185 - val_accuracy: 0.9372 - 27s/epoch - 2ms/step\n",
      "Epoch 5/30\n",
      "\n",
      "Epoch 5: saving model to ./training_2/cp-0005.ckpt\n",
      "15000/15000 - 28s - loss: 0.2179 - accuracy: 0.9376 - val_loss: 0.2279 - val_accuracy: 0.9342 - 28s/epoch - 2ms/step\n",
      "Epoch 6/30\n",
      "\n",
      "Epoch 6: saving model to ./training_2/cp-0006.ckpt\n",
      "15000/15000 - 26s - loss: 0.2164 - accuracy: 0.9395 - val_loss: 0.2216 - val_accuracy: 0.9392 - 26s/epoch - 2ms/step\n",
      "Epoch 7/30\n",
      "\n",
      "Epoch 7: saving model to ./training_2/cp-0007.ckpt\n",
      "15000/15000 - 28s - loss: 0.2103 - accuracy: 0.9414 - val_loss: 0.2738 - val_accuracy: 0.9287 - 28s/epoch - 2ms/step\n",
      "Epoch 8/30\n",
      "\n",
      "Epoch 8: saving model to ./training_2/cp-0008.ckpt\n",
      "15000/15000 - 28s - loss: 0.2094 - accuracy: 0.9417 - val_loss: 0.2329 - val_accuracy: 0.9385 - 28s/epoch - 2ms/step\n",
      "Epoch 9/30\n",
      "\n",
      "Epoch 9: saving model to ./training_2/cp-0009.ckpt\n",
      "15000/15000 - 26s - loss: 0.2090 - accuracy: 0.9427 - val_loss: 0.2454 - val_accuracy: 0.9375 - 26s/epoch - 2ms/step\n",
      "Epoch 10/30\n",
      "\n",
      "Epoch 10: saving model to ./training_2/cp-0010.ckpt\n",
      "15000/15000 - 28s - loss: 0.2083 - accuracy: 0.9426 - val_loss: 0.3027 - val_accuracy: 0.9200 - 28s/epoch - 2ms/step\n",
      "Epoch 11/30\n",
      "\n",
      "Epoch 11: saving model to ./training_2/cp-0011.ckpt\n",
      "15000/15000 - 29s - loss: 0.2058 - accuracy: 0.9434 - val_loss: 0.2361 - val_accuracy: 0.9397 - 29s/epoch - 2ms/step\n",
      "Epoch 12/30\n",
      "\n",
      "Epoch 12: saving model to ./training_2/cp-0012.ckpt\n",
      "15000/15000 - 26s - loss: 0.2067 - accuracy: 0.9442 - val_loss: 0.2535 - val_accuracy: 0.9341 - 26s/epoch - 2ms/step\n",
      "Epoch 13/30\n",
      "\n",
      "Epoch 13: saving model to ./training_2/cp-0013.ckpt\n",
      "15000/15000 - 27s - loss: 0.2041 - accuracy: 0.9442 - val_loss: 0.2734 - val_accuracy: 0.9311 - 27s/epoch - 2ms/step\n",
      "Epoch 14/30\n",
      "\n",
      "Epoch 14: saving model to ./training_2/cp-0014.ckpt\n",
      "15000/15000 - 28s - loss: 0.2025 - accuracy: 0.9457 - val_loss: 0.2423 - val_accuracy: 0.9389 - 28s/epoch - 2ms/step\n",
      "Epoch 15/30\n",
      "\n",
      "Epoch 15: saving model to ./training_2/cp-0015.ckpt\n",
      "15000/15000 - 26s - loss: 0.2030 - accuracy: 0.9459 - val_loss: 0.3346 - val_accuracy: 0.9226 - 26s/epoch - 2ms/step\n",
      "Epoch 16/30\n",
      "\n",
      "Epoch 16: saving model to ./training_2/cp-0016.ckpt\n",
      "15000/15000 - 27s - loss: 0.2044 - accuracy: 0.9446 - val_loss: 0.2499 - val_accuracy: 0.9371 - 27s/epoch - 2ms/step\n",
      "Epoch 17/30\n",
      "\n",
      "Epoch 17: saving model to ./training_2/cp-0017.ckpt\n",
      "15000/15000 - 28s - loss: 0.1996 - accuracy: 0.9453 - val_loss: 0.2577 - val_accuracy: 0.9384 - 28s/epoch - 2ms/step\n",
      "Epoch 18/30\n",
      "\n",
      "Epoch 18: saving model to ./training_2/cp-0018.ckpt\n",
      "15000/15000 - 27s - loss: 0.2008 - accuracy: 0.9467 - val_loss: 0.2423 - val_accuracy: 0.9440 - 27s/epoch - 2ms/step\n",
      "Epoch 19/30\n",
      "\n",
      "Epoch 19: saving model to ./training_2/cp-0019.ckpt\n",
      "15000/15000 - 26s - loss: 0.2010 - accuracy: 0.9459 - val_loss: 0.2490 - val_accuracy: 0.9435 - 26s/epoch - 2ms/step\n",
      "Epoch 20/30\n",
      "\n",
      "Epoch 20: saving model to ./training_2/cp-0020.ckpt\n",
      "15000/15000 - 28s - loss: 0.1993 - accuracy: 0.9467 - val_loss: 0.2567 - val_accuracy: 0.9380 - 28s/epoch - 2ms/step\n",
      "Epoch 21/30\n",
      "\n",
      "Epoch 21: saving model to ./training_2/cp-0021.ckpt\n",
      "15000/15000 - 28s - loss: 0.1999 - accuracy: 0.9470 - val_loss: 0.2898 - val_accuracy: 0.9329 - 28s/epoch - 2ms/step\n",
      "Epoch 22/30\n",
      "\n",
      "Epoch 22: saving model to ./training_2/cp-0022.ckpt\n",
      "15000/15000 - 26s - loss: 0.1977 - accuracy: 0.9477 - val_loss: 0.2227 - val_accuracy: 0.9495 - 26s/epoch - 2ms/step\n",
      "Epoch 23/30\n",
      "\n",
      "Epoch 23: saving model to ./training_2/cp-0023.ckpt\n",
      "15000/15000 - 29s - loss: 0.1985 - accuracy: 0.9470 - val_loss: 0.2373 - val_accuracy: 0.9459 - 29s/epoch - 2ms/step\n",
      "Epoch 24/30\n",
      "\n",
      "Epoch 24: saving model to ./training_2/cp-0024.ckpt\n",
      "15000/15000 - 28s - loss: 0.1990 - accuracy: 0.9475 - val_loss: 0.2447 - val_accuracy: 0.9427 - 28s/epoch - 2ms/step\n",
      "Epoch 25/30\n",
      "\n",
      "Epoch 25: saving model to ./training_2/cp-0025.ckpt\n",
      "15000/15000 - 26s - loss: 0.1980 - accuracy: 0.9470 - val_loss: 0.3323 - val_accuracy: 0.9273 - 26s/epoch - 2ms/step\n",
      "Epoch 26/30\n",
      "\n",
      "Epoch 26: saving model to ./training_2/cp-0026.ckpt\n",
      "15000/15000 - 27s - loss: 0.1968 - accuracy: 0.9483 - val_loss: 0.2726 - val_accuracy: 0.9385 - 27s/epoch - 2ms/step\n",
      "Epoch 27/30\n",
      "\n",
      "Epoch 27: saving model to ./training_2/cp-0027.ckpt\n",
      "15000/15000 - 26s - loss: 0.1962 - accuracy: 0.9478 - val_loss: 0.2613 - val_accuracy: 0.9404 - 26s/epoch - 2ms/step\n",
      "Epoch 28/30\n",
      "\n",
      "Epoch 28: saving model to ./training_2/cp-0028.ckpt\n",
      "15000/15000 - 27s - loss: 0.1988 - accuracy: 0.9479 - val_loss: 0.2919 - val_accuracy: 0.9343 - 27s/epoch - 2ms/step\n",
      "Epoch 29/30\n",
      "\n",
      "Epoch 29: saving model to ./training_2/cp-0029.ckpt\n",
      "15000/15000 - 28s - loss: 0.1974 - accuracy: 0.9486 - val_loss: 0.3258 - val_accuracy: 0.9308 - 28s/epoch - 2ms/step\n",
      "Epoch 30/30\n",
      "\n",
      "Epoch 30: saving model to ./training_2/cp-0030.ckpt\n",
      "15000/15000 - 27s - loss: 0.1963 - accuracy: 0.9492 - val_loss: 0.3156 - val_accuracy: 0.9316 - 27s/epoch - 2ms/step\n"
     ]
    }
   ],
   "source": [
    "\n",
    "\n",
    "def Q_Model():\n",
    "    \"\"\"Initializes and returns a custom Keras model\n",
    "    which is ready to be trained.\"\"\"\n",
    "    model = keras.models.Sequential([\n",
    "        keras.layers.Flatten(),\n",
    "        keras.layers.Dense(10, activation=\"softmax\")\n",
    "    ])\n",
    "    model.compile(\n",
    "        optimizer='adam',\n",
    "        loss=\"sparse_categorical_crossentropy\",\n",
    "        metrics=[\"accuracy\"],\n",
    "    )\n",
    "    return model\n",
    "\n",
    "q_model = Q_Model()\n",
    "\n",
    "pre_train_images = pre_model.predict(train_images,batch_size=n_batches)\n",
    "pre_test_images = pre_model.predict(test_images,batch_size=n_batches)\n",
    "\n",
    "q_history = q_model.fit(\n",
    "    pre_train_images,\n",
    "    train_labels,\n",
    "    validation_data=(pre_test_images, test_labels),\n",
    "    batch_size = n_batches,\n",
    "    epochs=n_epochs,\n",
    "    verbose=2, callbacks=[tensorboard_callback, cp_callback],\n",
    "    shuffle=True\n",
    ")\n"
   ]
  },
  {
   "cell_type": "code",
   "execution_count": 6,
   "metadata": {},
   "outputs": [
    {
     "data": {
      "image/png": "[encoded data removed]",
      "text/plain": [
       "<Figure size 1200x400 with 4 Axes>"
      ]
     },
     "metadata": {},
     "output_type": "display_data"
    }
   ],
   "source": [
    "\n",
    "image_titles = ['Five-Ch1', 'Five-Ch2', 'Five-Ch3','Five-Ch4']\n",
    "f, ax = plt.subplots(nrows=1, ncols=4, figsize=(12, 4))\n",
    "for i, title in enumerate(image_titles):\n",
    "    ax[i].set_title(title, fontsize=16)\n",
    "    ax[i].imshow(pre_train_images[0][:,:,i])\n",
    "    ax[i].axis('off')\n",
    "plt.tight_layout()\n",
    "plt.show()\n"
   ]
  },
  {
   "cell_type": "code",
   "execution_count": 7,
   "metadata": {},
   "outputs": [
    {
     "name": "stdout",
     "output_type": "stream",
     "text": [
      "1/1 [==============================] - 0s 71ms/step\n"
     ]
    }
   ],
   "source": [
    "from keras.models import Model\n",
    "\n",
    "full_model = keras.models.Sequential([pre_model,q_model])\n",
    "\n",
    "pred = full_model.predict(train_images[:n_batches], batch_size=n_batches)"
   ]
  },
  {
   "cell_type": "code",
   "execution_count": 8,
   "metadata": {},
   "outputs": [
    {
     "data": {
      "text/plain": [
       "tensor([5, 0, 4, 1], requires_grad=True)"
      ]
     },
     "execution_count": 8,
     "metadata": {},
     "output_type": "execute_result"
    }
   ],
   "source": [
    "np.argmax(pred, axis=1)"
   ]
  },
  {
   "cell_type": "code",
   "execution_count": 9,
   "metadata": {},
   "outputs": [
    {
     "data": {
      "text/plain": [
       "array([5, 0, 4, 1], dtype=uint8)"
      ]
     },
     "execution_count": 9,
     "metadata": {},
     "output_type": "execute_result"
    }
   ],
   "source": [
    "train_labels[:n_batches]"
   ]
  },
  {
   "cell_type": "code",
   "execution_count": 10,
   "metadata": {},
   "outputs": [],
   "source": [
    "full_model.save('qnotmod.keras')"
   ]
  },
  {
   "cell_type": "code",
   "execution_count": 11,
   "metadata": {},
   "outputs": [
    {
     "name": "stdout",
     "output_type": "stream",
     "text": [
      "1/1 [==============================] - 1s 1s/step\n"
     ]
    },
    {
     "data": {
      "text/plain": [
       "tensor([5, 0, 4, 1], requires_grad=True)"
      ]
     },
     "execution_count": 11,
     "metadata": {},
     "output_type": "execute_result"
    }
   ],
   "source": [
    "model = keras.models.load_model('qnotmod.keras')\n",
    "\n",
    "np.argmax(model.predict(train_images[:n_batches], batch_size=n_batches), axis=1)"
   ]
  },
  {
   "cell_type": "code",
   "execution_count": 12,
   "metadata": {},
   "outputs": [
    {
     "data": {
      "text/plain": [
       "60000"
      ]
     },
     "execution_count": 12,
     "metadata": {},
     "output_type": "execute_result"
    }
   ],
   "source": [
    "train_images.shape[0]"
   ]
  },
  {
   "cell_type": "code",
   "execution_count": null,
   "metadata": {},
   "outputs": [],
   "source": []
  }
 ],
 "metadata": {
  "kernelspec": {
   "display_name": "QML-QPF",
   "language": "python",
   "name": "python3"
  },
  "language_info": {
   "codemirror_mode": {
    "name": "ipython",
    "version": 3
   },
   "file_extension": ".py",
   "mimetype": "text/x-python",
   "name": "python",
   "nbconvert_exporter": "python",
   "pygments_lexer": "ipython3",
   "version": "3.11.9"
  }
 },
 "nbformat": 4,
 "nbformat_minor": 2
}
